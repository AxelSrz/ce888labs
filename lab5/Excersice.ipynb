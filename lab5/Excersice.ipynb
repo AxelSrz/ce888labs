{
 "cells": [
  {
   "cell_type": "code",
   "execution_count": 1,
   "metadata": {
    "collapsed": true
   },
   "outputs": [],
   "source": [
    "import pandas as pd\n",
    "import numpy as np\n",
    "from IPython.display import Image\n",
    "np.set_printoptions(precision = 3)"
   ]
  },
  {
   "cell_type": "code",
   "execution_count": 2,
   "metadata": {
    "collapsed": false
   },
   "outputs": [],
   "source": [
    "data = pd.read_csv(\"jester-data-1.csv\", header= None)\n",
    "d = data.to_latex()\n",
    "text_file = open(\"OutputExcersice.txt\", \"w\")\n",
    "text_file.write(d)\n",
    "text_file.close()"
   ]
  },
  {
   "cell_type": "code",
   "execution_count": 3,
   "metadata": {
    "collapsed": false
   },
   "outputs": [],
   "source": [
    "n_features = 2\n",
    "\n",
    "training_set = data.values[:19986]\n",
    "\n",
    "user_ratings = training_set\n",
    "user_preferences = np.random.random((user_ratings.shape[0], n_features))\n",
    "item_features = np.random.random((user_ratings.shape[1],n_features))"
   ]
  },
  {
   "cell_type": "code",
   "execution_count": 4,
   "metadata": {
    "collapsed": false
   },
   "outputs": [
    {
     "data": {
      "text/plain": [
       "(24983, 101)"
      ]
     },
     "execution_count": 4,
     "metadata": {},
     "output_type": "execute_result"
    }
   ],
   "source": [
    "data.values.shape"
   ]
  },
  {
   "cell_type": "code",
   "execution_count": 5,
   "metadata": {
    "collapsed": false
   },
   "outputs": [
    {
     "data": {
      "text/plain": [
       "array([[ 0.845,  0.089],\n",
       "       [ 0.448,  0.309],\n",
       "       [ 0.869,  0.974],\n",
       "       [ 0.795,  0.759],\n",
       "       [ 0.478,  0.667],\n",
       "       [ 0.619,  0.771],\n",
       "       [ 0.171,  0.698],\n",
       "       [ 0.74 ,  0.65 ],\n",
       "       [ 0.118,  0.943],\n",
       "       [ 0.861,  0.013],\n",
       "       [ 0.491,  0.826],\n",
       "       [ 0.359,  0.143],\n",
       "       [ 0.636,  0.891],\n",
       "       [ 0.779,  0.386],\n",
       "       [ 0.613,  0.742],\n",
       "       [ 0.3  ,  0.816],\n",
       "       [ 0.375,  0.903],\n",
       "       [ 0.727,  0.646],\n",
       "       [ 0.677,  0.582],\n",
       "       [ 0.958,  0.191],\n",
       "       [ 0.423,  0.61 ],\n",
       "       [ 0.141,  0.394],\n",
       "       [ 0.52 ,  0.676],\n",
       "       [ 0.917,  0.404],\n",
       "       [ 0.782,  0.313],\n",
       "       [ 0.031,  0.31 ],\n",
       "       [ 0.398,  0.611],\n",
       "       [ 0.628,  0.548],\n",
       "       [ 0.702,  0.502],\n",
       "       [ 0.648,  0.822],\n",
       "       [ 0.201,  0.414],\n",
       "       [ 0.231,  0.968],\n",
       "       [ 0.407,  0.47 ],\n",
       "       [ 0.867,  0.933],\n",
       "       [ 0.81 ,  0.101],\n",
       "       [ 0.079,  0.551],\n",
       "       [ 0.237,  0.774],\n",
       "       [ 0.643,  0.405],\n",
       "       [ 0.526,  0.608],\n",
       "       [ 0.397,  0.621],\n",
       "       [ 0.714,  0.543],\n",
       "       [ 0.042,  0.887],\n",
       "       [ 0.262,  0.475],\n",
       "       [ 0.827,  0.13 ],\n",
       "       [ 0.982,  0.616],\n",
       "       [ 0.484,  0.94 ],\n",
       "       [ 0.049,  0.114],\n",
       "       [ 0.975,  0.901],\n",
       "       [ 0.89 ,  0.674],\n",
       "       [ 0.04 ,  0.903],\n",
       "       [ 0.238,  0.524],\n",
       "       [ 0.792,  0.217],\n",
       "       [ 0.17 ,  0.587],\n",
       "       [ 0.194,  0.002],\n",
       "       [ 0.905,  0.745],\n",
       "       [ 0.658,  0.456],\n",
       "       [ 0.754,  0.542],\n",
       "       [ 0.423,  0.437],\n",
       "       [ 0.112,  0.652],\n",
       "       [ 0.403,  0.624],\n",
       "       [ 0.88 ,  0.435],\n",
       "       [ 0.604,  0.192],\n",
       "       [ 0.469,  0.292],\n",
       "       [ 0.338,  0.405],\n",
       "       [ 0.702,  0.467],\n",
       "       [ 0.665,  0.169],\n",
       "       [ 0.421,  0.061],\n",
       "       [ 0.049,  0.964],\n",
       "       [ 0.525,  0.913],\n",
       "       [ 0.834,  0.356],\n",
       "       [ 0.85 ,  0.515],\n",
       "       [ 0.944,  0.748],\n",
       "       [ 0.779,  0.498],\n",
       "       [ 0.71 ,  0.914],\n",
       "       [ 0.981,  0.266],\n",
       "       [ 0.333,  0.724],\n",
       "       [ 0.802,  0.374],\n",
       "       [ 0.803,  0.182],\n",
       "       [ 0.24 ,  0.447],\n",
       "       [ 0.557,  0.347],\n",
       "       [ 0.786,  0.581],\n",
       "       [ 0.376,  0.52 ],\n",
       "       [ 0.599,  0.443],\n",
       "       [ 0.341,  0.622],\n",
       "       [ 0.84 ,  0.398],\n",
       "       [ 0.086,  0.682],\n",
       "       [ 0.14 ,  0.894],\n",
       "       [ 0.097,  0.952],\n",
       "       [ 0.947,  0.886],\n",
       "       [ 0.517,  0.992],\n",
       "       [ 0.496,  0.036],\n",
       "       [ 0.112,  0.959],\n",
       "       [ 0.569,  0.257],\n",
       "       [ 0.597,  0.946],\n",
       "       [ 0.493,  0.459],\n",
       "       [ 0.682,  0.45 ],\n",
       "       [ 0.711,  0.982],\n",
       "       [ 0.339,  0.81 ],\n",
       "       [ 0.468,  0.781],\n",
       "       [ 0.645,  0.105],\n",
       "       [ 0.445,  0.069]])"
      ]
     },
     "execution_count": 5,
     "metadata": {},
     "output_type": "execute_result"
    }
   ],
   "source": [
    "item_features"
   ]
  },
  {
   "cell_type": "code",
   "execution_count": 6,
   "metadata": {
    "collapsed": false
   },
   "outputs": [
    {
     "data": {
      "text/plain": [
       "array([[ 0.055,  0.756],\n",
       "       [ 0.985,  0.562],\n",
       "       [ 0.674,  0.425],\n",
       "       ..., \n",
       "       [ 0.405,  0.323],\n",
       "       [ 0.254,  0.795],\n",
       "       [ 0.637,  0.161]])"
      ]
     },
     "execution_count": 6,
     "metadata": {},
     "output_type": "execute_result"
    }
   ],
   "source": [
    "user_preferences"
   ]
  },
  {
   "cell_type": "code",
   "execution_count": 7,
   "metadata": {
    "collapsed": false
   },
   "outputs": [],
   "source": [
    "user_ratings[user_ratings == 99] = np.NaN"
   ]
  },
  {
   "cell_type": "code",
   "execution_count": 8,
   "metadata": {
    "collapsed": false
   },
   "outputs": [],
   "source": [
    "training_set = np.delete(user_ratings,0,1)"
   ]
  },
  {
   "cell_type": "code",
   "execution_count": 9,
   "metadata": {
    "collapsed": false
   },
   "outputs": [
    {
     "data": {
      "text/plain": [
       "array([[ 0.055,  0.756],\n",
       "       [ 0.985,  0.562],\n",
       "       [ 0.674,  0.425],\n",
       "       ..., \n",
       "       [ 0.405,  0.323],\n",
       "       [ 0.254,  0.795],\n",
       "       [ 0.637,  0.161]])"
      ]
     },
     "execution_count": 9,
     "metadata": {},
     "output_type": "execute_result"
    }
   ],
   "source": [
    "user_preferences"
   ]
  },
  {
   "cell_type": "code",
   "execution_count": 10,
   "metadata": {
    "collapsed": true
   },
   "outputs": [],
   "source": [
    "def predict_rating(user_id,item_id):\n",
    "    \"\"\" Predict a rating given a user_id and an item_id.\n",
    "    \"\"\"\n",
    "    user_preference = user_preferences[user_id]\n",
    "    item_preference = item_features[item_id]\n",
    "    return user_preference.dot(item_preference)\n",
    "\n",
    "def train(user_id, item_id, rating,alpha = 0.0001):\n",
    "    \n",
    "    #print item_id\n",
    "    prediction_rating = predict_rating(user_id, item_id)\n",
    "    err = ( prediction_rating- rating );\n",
    "    #print err\n",
    "    user_pref_values = user_preferences[user_id][:]\n",
    "    user_preferences[user_id] -= alpha * err * item_features[item_id]\n",
    "    item_features[item_id] -= alpha * err * user_pref_values\n",
    "    return err\n",
    "    \n",
    "\n",
    "\n",
    "def sgd(iterations = 10):\n",
    "    \"\"\" Iterate over all users and all items and train for \n",
    "        a certain number of iterations\n",
    "    \"\"\"\n",
    "    for iteration in range(0,iterations):\n",
    "        error = []\n",
    "        for user_id in range(0,user_preferences.shape[0]):\n",
    "            for item_id in range(0,item_features.shape[0]):\n",
    "                rating = user_ratings[user_id][item_id]\n",
    "                if(not np.isnan(rating)):\n",
    "                    err = train(user_id,item_id,rating)\n",
    "                    error.append(err)\n",
    "    mse = (np.array(error) ** 2).mean()          \n",
    "    print mse\n",
    "\n",
    "def mse(iterations = 10):\n",
    "    \"\"\" Iterate over all users and all items and train for \n",
    "        a certain number of iterations\n",
    "    \"\"\"\n",
    "    for iteration in range(0,iterations):\n",
    "        error = []\n",
    "        for user_id in range(0,user_preferences.shape[0]):\n",
    "            for item_id in range(0,item_features.shape[0]):\n",
    "                rating = validation_set[user_id][item_id]\n",
    "                if(not np.isnan(rating)):\n",
    "                    err = train(user_id,item_id,rating)\n",
    "                    error.append(err)\n",
    "    mse = (np.array(error) ** 2).mean()          \n",
    "    print mse\n",
    "                    "
   ]
  },
  {
   "cell_type": "code",
   "execution_count": 11,
   "metadata": {
    "collapsed": false
   },
   "outputs": [
    {
     "data": {
      "text/plain": [
       "array([[-7.82 ,  8.79 , -9.66 , ...,  0.631,  0.616,  0.115],\n",
       "       [ 4.08 , -0.29 ,  6.36 , ...,  0.34 , -4.32 ,  1.07 ],\n",
       "       [ 0.607,  0.433,  0.999, ...,  0.573,  0.647,  0.479],\n",
       "       ..., \n",
       "       [-0.68 , -4.56 ,  4.13 , ...,  7.23 ,  6.7  ,  4.13 ],\n",
       "       [ 0.285,  0.359,  0.994, ...,  0.73 ,  0.739,  0.247],\n",
       "       [ 2.04 , -2.23 ,  1.99 , ...,  0.83 ,  3.16 , -0.29 ]])"
      ]
     },
     "execution_count": 11,
     "metadata": {},
     "output_type": "execute_result"
    }
   ],
   "source": [
    "for (x,y), value in np.ndenumerate(training_set):\n",
    "    if np.isnan(value):\n",
    "        training_set[x,y] = predict_rating(x,y)\n",
    "training_set"
   ]
  },
  {
   "cell_type": "code",
   "execution_count": 12,
   "metadata": {
    "collapsed": false
   },
   "outputs": [
    {
     "data": {
      "text/plain": [
       "False"
      ]
     },
     "execution_count": 12,
     "metadata": {},
     "output_type": "execute_result"
    }
   ],
   "source": [
    "np.isnan(training_set[2,0])"
   ]
  },
  {
   "cell_type": "code",
   "execution_count": 13,
   "metadata": {
    "collapsed": true
   },
   "outputs": [],
   "source": [
    "validation_set = data.values[19987:22484]"
   ]
  },
  {
   "cell_type": "code",
   "execution_count": 14,
   "metadata": {
    "collapsed": true
   },
   "outputs": [],
   "source": [
    "validation_set[validation_set == 99] = np.NaN"
   ]
  },
  {
   "cell_type": "code",
   "execution_count": 15,
   "metadata": {
    "collapsed": false
   },
   "outputs": [
    {
     "name": "stdout",
     "output_type": "stream",
     "text": [
      "24.4242401756\n"
     ]
    }
   ],
   "source": [
    "sgd()"
   ]
  },
  {
   "cell_type": "code",
   "execution_count": 30,
   "metadata": {
    "collapsed": false
   },
   "outputs": [
    {
     "name": "stdout",
     "output_type": "stream",
     "text": [
      "best joke with index: 49 3.66508489508\n",
      "worst joke with index: 57 -3.83387963737\n"
     ]
    }
   ],
   "source": [
    "ratings = data.values\n",
    "ratings = np.delete(ratings,0,1)\n",
    "ratings[ratings == 99] = np.NaN\n",
    "smallest = 1000000\n",
    "largest = -1000000\n",
    "smallest_indx, largest_indx = -1, -1\n",
    "for index,column in enumerate(ratings.T):\n",
    "    column = column[~np.isnan(column)]\n",
    "    mean = column.mean()\n",
    "    if mean > largest:\n",
    "        largest = mean\n",
    "        largest_indx = index\n",
    "    if mean < smallest:\n",
    "        smallest = mean\n",
    "        smallest_indx = index\n",
    "        \n",
    "print 'best joke with index:', largest_indx, largest\n",
    "print 'worst joke with index:', smallest_indx, smallest"
   ]
  },
  {
   "cell_type": "code",
   "execution_count": 27,
   "metadata": {
    "collapsed": false
   },
   "outputs": [
    {
     "data": {
      "text/plain": [
       "array([[ -7.82,   8.79,  -9.66, ...,  99.  ,  99.  ,  99.  ],\n",
       "       [  4.08,  -0.29,   6.36, ...,   0.34,  -4.32,   1.07],\n",
       "       [ 99.  ,  99.  ,  99.  , ...,  99.  ,  99.  ,  99.  ],\n",
       "       ..., \n",
       "       [ 99.  ,  99.  ,  99.  , ...,  99.  ,  99.  ,  99.  ],\n",
       "       [ 99.  ,  99.  ,  99.  , ...,  99.  ,  99.  ,  99.  ],\n",
       "       [  2.43,   2.67,  -3.98, ...,  99.  ,  99.  ,  99.  ]])"
      ]
     },
     "execution_count": 27,
     "metadata": {},
     "output_type": "execute_result"
    }
   ],
   "source": [
    "ratings = data.values\n",
    "ratings = np.delete(ratings,0,1)\n",
    "user_ratings[user_ratings == 99] = np.NaN\n",
    "ratings"
   ]
  },
  {
   "cell_type": "code",
   "execution_count": 21,
   "metadata": {
    "collapsed": false
   },
   "outputs": [
    {
     "data": {
      "text/plain": [
       "array([ 1.,  1.,  1.])"
      ]
     },
     "execution_count": 21,
     "metadata": {},
     "output_type": "execute_result"
    }
   ],
   "source": [
    "arr[~np.isnan(arr)]"
   ]
  },
  {
   "cell_type": "code",
   "execution_count": null,
   "metadata": {
    "collapsed": true
   },
   "outputs": [],
   "source": []
  }
 ],
 "metadata": {
  "kernelspec": {
   "display_name": "Python 2",
   "language": "python",
   "name": "python2"
  },
  "language_info": {
   "codemirror_mode": {
    "name": "ipython",
    "version": 2
   },
   "file_extension": ".py",
   "mimetype": "text/x-python",
   "name": "python",
   "nbconvert_exporter": "python",
   "pygments_lexer": "ipython2",
   "version": "2.7.12"
  }
 },
 "nbformat": 4,
 "nbformat_minor": 2
}
